{
  "nbformat": 4,
  "nbformat_minor": 0,
  "metadata": {
    "colab": {
      "provenance": [],
      "authorship_tag": "ABX9TyNX2cS6CR77k7+aCpzU4v5u",
      "include_colab_link": true
    },
    "kernelspec": {
      "name": "python3",
      "display_name": "Python 3"
    },
    "language_info": {
      "name": "python"
    }
  },
  "cells": [
    {
      "cell_type": "markdown",
      "metadata": {
        "id": "view-in-github",
        "colab_type": "text"
      },
      "source": [
        "<a href=\"https://colab.research.google.com/github/Amisha-sgh/ML-Project/blob/main/Machine_Learning_Project.ipynb\" target=\"_parent\"><img src=\"https://colab.research.google.com/assets/colab-badge.svg\" alt=\"Open In Colab\"/></a>"
      ]
    },
    {
      "cell_type": "markdown",
      "source": [
        "**PROJECT**\n",
        "\n",
        "---\n",
        "\n",
        "\n"
      ],
      "metadata": {
        "id": "AbWKkyg4AJ_a"
      }
    },
    {
      "cell_type": "markdown",
      "source": [
        "Predicting price of gold"
      ],
      "metadata": {
        "id": "1KFrtdbXA84a"
      }
    },
    {
      "cell_type": "code",
      "source": [
        "#importing necessary libraries\n",
        "import matplotlib.pyplot as plt\n",
        "import numpy as np\n",
        "import pandas as pd\n",
        "import statistics as stac\n",
        "from scipy import stats\n",
        "from sklearn import linear_model\n",
        "from sklearn.linear_model import LinearRegression"
      ],
      "metadata": {
        "id": "C6hOjDRzBCCj"
      },
      "execution_count": null,
      "outputs": []
    },
    {
      "cell_type": "markdown",
      "source": [
        "Reading data from csv file"
      ],
      "metadata": {
        "id": "eRv3sghRBQvP"
      }
    },
    {
      "cell_type": "code",
      "source": [
        "data=pd.read_csv('/content/gld_price_data.csv')\n",
        "print(data)"
      ],
      "metadata": {
        "colab": {
          "base_uri": "https://localhost:8080/"
        },
        "id": "g8e9MQJ8BVJP",
        "outputId": "21174641-1f6c-4d42-a3a5-45dfdb303733"
      },
      "execution_count": null,
      "outputs": [
        {
          "output_type": "stream",
          "name": "stdout",
          "text": [
            "           Date          SPX         GLD        USO      SLV   EUR/USD\n",
            "0      1/2/2008  1447.160034   84.860001  78.470001  15.1800  1.471692\n",
            "1      1/3/2008  1447.160034   85.570000  78.370003  15.2850  1.474491\n",
            "2      1/4/2008  1411.630005   85.129997  77.309998  15.1670  1.475492\n",
            "3      1/7/2008  1416.180054   84.769997  75.500000  15.0530  1.468299\n",
            "4      1/8/2008  1390.189941   86.779999  76.059998  15.5900  1.557099\n",
            "...         ...          ...         ...        ...      ...       ...\n",
            "2285   5/8/2018  2671.919922  124.589996  14.060000  15.5100  1.186789\n",
            "2286   5/9/2018  2697.790039  124.330002  14.370000  15.5300  1.184722\n",
            "2287  5/10/2018  2723.070068  125.180000  14.410000  15.7400  1.191753\n",
            "2288  5/14/2018  2730.129883  124.489998  14.380000  15.5600  1.193118\n",
            "2289  5/16/2018  2725.780029  122.543800  14.405800  15.4542  1.182033\n",
            "\n",
            "[2290 rows x 6 columns]\n"
          ]
        }
      ]
    },
    {
      "cell_type": "code",
      "source": [
        "#number of rows and columns\n",
        "print(\"Number of rows and columns are:\")\n",
        "data.shape"
      ],
      "metadata": {
        "colab": {
          "base_uri": "https://localhost:8080/"
        },
        "id": "3j83Uk0sBpEG",
        "outputId": "e5a0bc7d-ed85-4a71-f481-1672dd24e26e"
      },
      "execution_count": null,
      "outputs": [
        {
          "output_type": "stream",
          "name": "stdout",
          "text": [
            "Number of rows and columns are:\n"
          ]
        },
        {
          "output_type": "execute_result",
          "data": {
            "text/plain": [
              "(2290, 6)"
            ]
          },
          "metadata": {},
          "execution_count": 4
        }
      ]
    },
    {
      "cell_type": "markdown",
      "source": [
        "Performing Statistical Calculations"
      ],
      "metadata": {
        "id": "JzCqx3HGC3WQ"
      }
    },
    {
      "cell_type": "code",
      "source": [
        "#calculating mean\n",
        "print(data.mean())"
      ],
      "metadata": {
        "colab": {
          "base_uri": "https://localhost:8080/"
        },
        "id": "LYh3JgAcC09I",
        "outputId": "861cc7a1-b621-40b0-ba23-12df38fd93f0"
      },
      "execution_count": null,
      "outputs": [
        {
          "output_type": "stream",
          "name": "stdout",
          "text": [
            "SPX        1654.315776\n",
            "GLD         122.732875\n",
            "USO          31.842221\n",
            "SLV          20.084997\n",
            "EUR/USD       1.283653\n",
            "dtype: float64\n"
          ]
        },
        {
          "output_type": "stream",
          "name": "stderr",
          "text": [
            "/usr/local/lib/python3.7/dist-packages/ipykernel_launcher.py:2: FutureWarning: Dropping of nuisance columns in DataFrame reductions (with 'numeric_only=None') is deprecated; in a future version this will raise TypeError.  Select only valid columns before calling the reduction.\n",
            "  \n"
          ]
        }
      ]
    },
    {
      "cell_type": "code",
      "source": [
        "#calculation median\n",
        "print(data.median())"
      ],
      "metadata": {
        "colab": {
          "base_uri": "https://localhost:8080/"
        },
        "id": "UKb3Nj87DCaY",
        "outputId": "106dd31c-10b7-4bae-b574-9499d4a289f7"
      },
      "execution_count": null,
      "outputs": [
        {
          "output_type": "stream",
          "name": "stdout",
          "text": [
            "SPX        1551.434998\n",
            "GLD         120.580002\n",
            "USO          33.869999\n",
            "SLV          17.268500\n",
            "EUR/USD       1.303297\n",
            "dtype: float64\n"
          ]
        },
        {
          "output_type": "stream",
          "name": "stderr",
          "text": [
            "/usr/local/lib/python3.7/dist-packages/ipykernel_launcher.py:2: FutureWarning: Dropping of nuisance columns in DataFrame reductions (with 'numeric_only=None') is deprecated; in a future version this will raise TypeError.  Select only valid columns before calling the reduction.\n",
            "  \n"
          ]
        }
      ]
    },
    {
      "cell_type": "code",
      "source": [
        "#calculating mode\n",
        "print(data.mode())"
      ],
      "metadata": {
        "colab": {
          "base_uri": "https://localhost:8080/"
        },
        "id": "T5Z8T2RaDLKq",
        "outputId": "b0912b7b-1ce5-446a-fd51-86bace4b97e4"
      },
      "execution_count": null,
      "outputs": [
        {
          "output_type": "stream",
          "name": "stdout",
          "text": [
            "           Date          SPX         GLD        USO    SLV   EUR/USD\n",
            "0     1/10/2008  1178.099976  115.940002  10.110000  16.15  1.437298\n",
            "1     1/10/2011  1182.449951         NaN  10.280000    NaN       NaN\n",
            "2     1/10/2012  1348.859985         NaN  33.189999    NaN       NaN\n",
            "3     1/10/2013  1416.180054         NaN  36.160000    NaN       NaN\n",
            "4     1/10/2014  1447.160034         NaN        NaN    NaN       NaN\n",
            "...         ...          ...         ...        ...    ...       ...\n",
            "2285   9/9/2009          NaN         NaN        NaN    NaN       NaN\n",
            "2286   9/9/2010          NaN         NaN        NaN    NaN       NaN\n",
            "2287   9/9/2013          NaN         NaN        NaN    NaN       NaN\n",
            "2288   9/9/2014          NaN         NaN        NaN    NaN       NaN\n",
            "2289   9/9/2015          NaN         NaN        NaN    NaN       NaN\n",
            "\n",
            "[2290 rows x 6 columns]\n"
          ]
        }
      ]
    },
    {
      "cell_type": "code",
      "source": [
        "#calculating standard deviation\n",
        "print(data.std())"
      ],
      "metadata": {
        "colab": {
          "base_uri": "https://localhost:8080/"
        },
        "id": "8w7hkbjuDSWN",
        "outputId": "5982503e-ff91-4c51-9823-88f4c9abdec5"
      },
      "execution_count": null,
      "outputs": [
        {
          "output_type": "stream",
          "name": "stdout",
          "text": [
            "SPX        519.111540\n",
            "GLD         23.283346\n",
            "USO         19.523517\n",
            "SLV          7.092566\n",
            "EUR/USD      0.131547\n",
            "dtype: float64\n"
          ]
        },
        {
          "output_type": "stream",
          "name": "stderr",
          "text": [
            "/usr/local/lib/python3.7/dist-packages/ipykernel_launcher.py:2: FutureWarning: Dropping of nuisance columns in DataFrame reductions (with 'numeric_only=None') is deprecated; in a future version this will raise TypeError.  Select only valid columns before calling the reduction.\n",
            "  \n"
          ]
        }
      ]
    },
    {
      "cell_type": "code",
      "source": [
        "#calculating variance\n",
        "print(data.var())"
      ],
      "metadata": {
        "colab": {
          "base_uri": "https://localhost:8080/"
        },
        "id": "GrysPlSUDera",
        "outputId": "ad591343-2d95-4b64-d114-b051908b3307"
      },
      "execution_count": null,
      "outputs": [
        {
          "output_type": "stream",
          "name": "stdout",
          "text": [
            "SPX        269476.791172\n",
            "GLD           542.114189\n",
            "USO           381.167717\n",
            "SLV            50.304498\n",
            "EUR/USD         0.017305\n",
            "dtype: float64\n"
          ]
        },
        {
          "output_type": "stream",
          "name": "stderr",
          "text": [
            "/usr/local/lib/python3.7/dist-packages/ipykernel_launcher.py:2: FutureWarning: Dropping of nuisance columns in DataFrame reductions (with 'numeric_only=None') is deprecated; in a future version this will raise TypeError.  Select only valid columns before calling the reduction.\n",
            "  \n"
          ]
        }
      ]
    },
    {
      "cell_type": "code",
      "source": [
        "#plotting histogram\n",
        "plt.hist(data['SPX'],bins=25,alpha=0.45,color='c')\n",
        "plt.hist(data['GLD'],bins=25,alpha=0.45,color='k')\n",
        "plt.hist(data['USO'],bins=25,alpha=0.45,color='r')\n",
        "plt.hist(data['SLV'],bins=25,alpha=0.45,color='b')\n",
        "plt.title(\"histogram with multiple variables(overlapping histogram)\")\n",
        "plt.legend(['SPX','GLD','USO','SLV'])\n",
        "plt.show()"
      ],
      "metadata": {
        "colab": {
          "base_uri": "https://localhost:8080/",
          "height": 281
        },
        "id": "XD1Hjh-IDleS",
        "outputId": "f253ebca-dd29-46e8-af93-1bc6e95bccf6"
      },
      "execution_count": null,
      "outputs": [
        {
          "output_type": "display_data",
          "data": {
            "text/plain": [
              "<Figure size 432x288 with 1 Axes>"
            ],
            "image/png": "[encoded data removed]"
          },
          "metadata": {
            "needs_background": "light"
          }
        }
      ]
    },
    {
      "cell_type": "markdown",
      "source": [
        "APPLYING LINEAR REGRESSION"
      ],
      "metadata": {
        "id": "nHn1jtLlF48-"
      }
    },
    {
      "cell_type": "code",
      "source": [
        "#applying linear regression using SPX parameter\n",
        "x=data['SPX']\n",
        "y=data['EUR/USD']\n",
        "slope,intercept,r,p,str_err=stats.linregress(x,y)\n",
        "def my_func(x):\n",
        "  return slope*x+intercept\n",
        "\n",
        "mymodel=list(map(my_func,x))\n",
        "plt.scatter(x,y,c='c')\n",
        "plt.plot(x,mymodel,c='k')\n",
        "plt.xlabel('SPX')\n",
        "plt.ylabel('EUR/USD')\n",
        "plt.show()\n",
        "\n",
        "#check for best fit or not\n",
        "#0 means no relationship\n",
        "print(r)\n",
        "#predicting\n",
        "pre=my_func(1447.160034)\n",
        "print(pre)"
      ],
      "metadata": {
        "colab": {
          "base_uri": "https://localhost:8080/",
          "height": 314
        },
        "id": "r1orEu3rF1rv",
        "outputId": "229d19f0-da59-433b-c703-a4ea4f93a3e8"
      },
      "execution_count": null,
      "outputs": [
        {
          "output_type": "display_data",
          "data": {
            "text/plain": [
              "<Figure size 432x288 with 1 Axes>"
            ],
            "image/png": "[encoded data removed]"
          },
          "metadata": {
            "needs_background": "light"
          }
        },
        {
          "output_type": "stream",
          "name": "stdout",
          "text": [
            "-0.6720174249756031\n",
            "1.3189306078768466\n"
          ]
        }
      ]
    },
    {
      "cell_type": "code",
      "source": [
        "#applying linear regression using GLD parameter\n",
        "x=data['GLD']\n",
        "y=data['EUR/USD']\n",
        "slope,intercept,r,p,str_err=stats.linregress(x,y)\n",
        "def my_func(x):\n",
        "  return slope*x+intercept\n",
        "\n",
        "mymodel=list(map(my_func,x))\n",
        "plt.scatter(x,y,c='c')\n",
        "plt.plot(x,mymodel,c='k')\n",
        "plt.xlabel('GLD')\n",
        "plt.ylabel('EUR/USD')\n",
        "plt.show()\n",
        "\n",
        "#check for best fit or not\n",
        "#0 means no relationship\n",
        "print(r)\n",
        "#predicting\n",
        "pre=my_func(84.86)\n",
        "print(pre)"
      ],
      "metadata": {
        "colab": {
          "base_uri": "https://localhost:8080/",
          "height": 314
        },
        "id": "VlA592gtI7oJ",
        "outputId": "6a255940-97f9-4802-b520-7416f8bd3bde"
      },
      "execution_count": null,
      "outputs": [
        {
          "output_type": "display_data",
          "data": {
            "text/plain": [
              "<Figure size 432x288 with 1 Axes>"
            ],
            "image/png": "[encoded data removed]"
          },
          "metadata": {
            "needs_background": "light"
          }
        },
        {
          "output_type": "stream",
          "name": "stdout",
          "text": [
            "-0.024375466130594995\n",
            "1.2888688105215047\n"
          ]
        }
      ]
    },
    {
      "cell_type": "code",
      "source": [
        "#applying linear regression using USO parameter\n",
        "x=data['USO']\n",
        "y=data['EUR/USD']\n",
        "slope,intercept,r,p,str_err=stats.linregress(x,y)\n",
        "def my_func(x):\n",
        "  return slope*x+intercept\n",
        "\n",
        "mymodel=list(map(my_func,x))\n",
        "plt.scatter(x,y,c='c')\n",
        "plt.plot(x,mymodel,c='k')\n",
        "plt.xlabel('USO')\n",
        "plt.ylabel('EUR/USD')\n",
        "plt.show()\n",
        "\n",
        "#check for best fit or not\n",
        "#0 means no relationship\n",
        "print(r)\n",
        "#predicting\n",
        "pre=my_func(78.47)\n",
        "print(pre)"
      ],
      "metadata": {
        "colab": {
          "base_uri": "https://localhost:8080/",
          "height": 314
        },
        "id": "YZouwCy_JMAt",
        "outputId": "9cd07d44-bcf7-4292-8ff3-d76c8ef0b596"
      },
      "execution_count": null,
      "outputs": [
        {
          "output_type": "display_data",
          "data": {
            "text/plain": [
              "<Figure size 432x288 with 1 Axes>"
            ],
            "image/png": "[encoded data removed]"
          },
          "metadata": {
            "needs_background": "light"
          }
        },
        {
          "output_type": "stream",
          "name": "stdout",
          "text": [
            "0.829317454476359\n",
            "1.544201891290812\n"
          ]
        }
      ]
    },
    {
      "cell_type": "code",
      "source": [
        "#applying linear regression using SLV parameter\n",
        "x=data['SLV']\n",
        "y=data['EUR/USD']\n",
        "slope,intercept,r,p,str_err=stats.linregress(x,y)\n",
        "def my_func(x):\n",
        "  return slope*x+intercept\n",
        "\n",
        "mymodel=list(map(my_func,x))\n",
        "plt.scatter(x,y,c='c')\n",
        "plt.plot(x,mymodel,c='k')\n",
        "plt.xlabel('SLV')\n",
        "plt.ylabel(\"EUR/USD\")\n",
        "plt.show()\n",
        "\n",
        "#check for best fit or not\n",
        "#0 means no relationship\n",
        "print(r)\n",
        "#predicting\n",
        "pre=my_func(15.18)\n",
        "print(pre)"
      ],
      "metadata": {
        "colab": {
          "base_uri": "https://localhost:8080/",
          "height": 314
        },
        "id": "UnmQz3ioJXMa",
        "outputId": "f103baf4-4a24-4ba2-c8c7-1dba393b6bf4"
      },
      "execution_count": null,
      "outputs": [
        {
          "output_type": "display_data",
          "data": {
            "text/plain": [
              "<Figure size 432x288 with 1 Axes>"
            ],
            "image/png": "[encoded data removed]"
          },
          "metadata": {
            "needs_background": "light"
          }
        },
        {
          "output_type": "stream",
          "name": "stdout",
          "text": [
            "0.3216312713168989\n",
            "1.2543929907932054\n"
          ]
        }
      ]
    },
    {
      "cell_type": "markdown",
      "source": [
        "PREDICTIONG PRICE USING MULTIPLE REGRESSION"
      ],
      "metadata": {
        "id": "ggGvYt4KJfl5"
      }
    },
    {
      "cell_type": "code",
      "source": [
        "# PREDICTING THE PRICE WITH MULTIPLE REGRESSION\n",
        "\n",
        "x=data[['SPX','GLD','USO','SLV']]\n",
        "y=data[['EUR/USD']]\n",
        "\n",
        "#APPLYING MULTIPLE REGRESSION \n",
        "\n",
        "regr=linear_model.LinearRegression()\n",
        "regr.fit(x,y)\n",
        "predictedPrice=regr.predict([[1447.16,84.86,78.47,15.18]]) \n",
        "print(predictedPrice)"
      ],
      "metadata": {
        "colab": {
          "base_uri": "https://localhost:8080/"
        },
        "id": "SF0ECMnGJpgt",
        "outputId": "9d68c319-3d79-4398-9563-98cc509542ef"
      },
      "execution_count": null,
      "outputs": [
        {
          "output_type": "stream",
          "name": "stdout",
          "text": [
            "[[1.49624571]]\n"
          ]
        },
        {
          "output_type": "stream",
          "name": "stderr",
          "text": [
            "/usr/local/lib/python3.7/dist-packages/sklearn/base.py:451: UserWarning: X does not have valid feature names, but LinearRegression was fitted with feature names\n",
            "  \"X does not have valid feature names, but\"\n"
          ]
        }
      ]
    }
  ]
}